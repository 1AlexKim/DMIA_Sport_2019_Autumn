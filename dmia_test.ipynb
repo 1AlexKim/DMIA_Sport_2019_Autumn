{
  "nbformat": 4,
  "nbformat_minor": 0,
  "metadata": {
    "kernelspec": {
      "name": "python3",
      "display_name": "Python 3"
    },
    "language_info": {
      "codemirror_mode": {
        "name": "ipython",
        "version": 3
      },
      "file_extension": ".py",
      "mimetype": "text/x-python",
      "name": "python",
      "nbconvert_exporter": "python",
      "pygments_lexer": "ipython3",
      "version": "3.6.7"
    },
    "latex_envs": {
      "LaTeX_envs_menu_present": true,
      "autoclose": false,
      "autocomplete": true,
      "bibliofile": "biblio.bib",
      "cite_by": "apalike",
      "current_citInitial": 1,
      "eqLabelWithNumbers": true,
      "eqNumInitial": 1,
      "hotkeys": {
        "equation": "Ctrl-E",
        "itemize": "Ctrl-I"
      },
      "labels_anchors": false,
      "latex_user_defs": false,
      "report_style_numbering": false,
      "user_envs_cfg": false
    },
    "toc": {
      "base_numbering": 1,
      "nav_menu": {},
      "number_sections": true,
      "sideBar": true,
      "skip_h1_title": false,
      "title_cell": "Table of Contents",
      "title_sidebar": "Contents",
      "toc_cell": false,
      "toc_position": {
        "height": "calc(100% - 180px)",
        "left": "10px",
        "top": "150px",
        "width": "165px"
      },
      "toc_section_display": true,
      "toc_window_display": true
    },
    "colab": {
      "name": "dmia test.ipynb",
      "provenance": [],
      "machine_shape": "hm"
    },
    "accelerator": "GPU"
  },
  "cells": [
    {
      "cell_type": "code",
      "metadata": {
        "id": "5Wm4sPzoLiNi",
        "colab_type": "code",
        "outputId": "51586588-2db8-4185-e6e1-fbeac550bfc8",
        "colab": {
          "base_uri": "https://localhost:8080/",
          "height": 34
        }
      },
      "source": [
        "from google.colab import drive \n",
        "drive.mount('/content/gdrive')"
      ],
      "execution_count": 0,
      "outputs": [
        {
          "output_type": "stream",
          "text": [
            "Drive already mounted at /content/gdrive; to attempt to forcibly remount, call drive.mount(\"/content/gdrive\", force_remount=True).\n"
          ],
          "name": "stdout"
        }
      ]
    },
    {
      "cell_type": "code",
      "metadata": {
        "ExecuteTime": {
          "end_time": "2019-10-02T20:31:03.338527Z",
          "start_time": "2019-10-02T20:31:01.309988Z"
        },
        "id": "ftRXgbWZLaOo",
        "colab_type": "code",
        "colab": {}
      },
      "source": [
        "import pandas as pd\n",
        "import numpy as np\n",
        "from sklearn.metrics import mean_squared_log_error, classification_report\n",
        "from sklearn.feature_extraction.text import TfidfVectorizer, CountVectorizer\n",
        "\n",
        "from sklearn.linear_model import SGDRegressor, SGDClassifier\n",
        "from sklearn.model_selection import train_test_split\n",
        "from sklearn.metrics.pairwise import cosine_similarity\n",
        "from sklearn.preprocessing import OneHotEncoder\n",
        "from sklearn.ensemble import RandomForestClassifier\n",
        "from sklearn.svm import SVR\n",
        "\n",
        "import re\n",
        "\n",
        "from lightgbm import LGBMRegressor, LGBMClassifier, Dataset\n",
        "from scipy.sparse import hstack, vstack, csr_matrix, save_npz, load_npz\n",
        "from joblib import dump, load"
      ],
      "execution_count": 0,
      "outputs": []
    },
    {
      "cell_type": "code",
      "metadata": {
        "ExecuteTime": {
          "end_time": "2019-10-02T19:28:24.027256Z",
          "start_time": "2019-10-02T19:28:21.208011Z"
        },
        "id": "21G8xCYXLaOr",
        "colab_type": "code",
        "colab": {}
      },
      "source": [
        "train = pd.read_csv(\"/content/gdrive/My Drive/Colab Notebooks/ml_sport/data/train.csv\")\n",
        "test = pd.read_csv(\"/content/gdrive/My Drive/Colab Notebooks/ml_sport/data/Xtest.csv\")\n",
        "sample = pd.read_csv(\"/content/gdrive/My Drive/Colab Notebooks/ml_sport/data/sample_submission.csv\")"
      ],
      "execution_count": 0,
      "outputs": []
    },
    {
      "cell_type": "markdown",
      "metadata": {
        "id": "febzZCTuLaOt",
        "colab_type": "text"
      },
      "source": [
        "# features"
      ]
    },
    {
      "cell_type": "code",
      "metadata": {
        "ExecuteTime": {
          "end_time": "2019-10-02T19:28:32.195228Z",
          "start_time": "2019-10-02T19:28:31.862365Z"
        },
        "id": "cyZmRj66LaOu",
        "colab_type": "code",
        "colab": {}
      },
      "source": [
        "train = train.fillna('')\n",
        "test = test.fillna('')"
      ],
      "execution_count": 0,
      "outputs": []
    },
    {
      "cell_type": "code",
      "metadata": {
        "ExecuteTime": {
          "end_time": "2019-10-02T19:29:48.032721Z",
          "start_time": "2019-10-02T19:28:42.766898Z"
        },
        "id": "Z2PkSfYULaOv",
        "colab_type": "code",
        "colab": {}
      },
      "source": [
        "train['upper_count'] = train['Password'].apply(lambda x: sum([1 if i.isupper() else 0 for i in x]))\n",
        "train['pas_len'] = train['Password'].str.len()\n",
        "train['digit_count'] = train['Password'].apply(lambda x: sum([1 if i.isdigit() else 0 for i in x]))\n",
        "train['max_digit_len'] = train['Password'].str.findall(r'[0-9]+').apply(\n",
        "    lambda x: max([len(i) for i in x]) if x != [] else 0)\n",
        "train['max_lower_let_len'] = train['Password'].str.findall(r'[a-z]+').apply(\n",
        "    lambda x: max([len(i) for i in x]) if x != [] else 0)\n",
        "train['max_upper_let_len'] = train['Password'].str.findall(r'[a-z]+').apply(\n",
        "    lambda x: max([len(i) for i in x]) if x != [] else 0)\n",
        "train['max_spec_symb_len'] = train['Password'].str.findall(r'[\\W]+').apply(\n",
        "    lambda x: max([len(i) for i in x]) if x != [] else 0)\n",
        "train['spec_count'] = train['Password'].str.findall('\\W').apply(len)\n",
        "train['underline_count'] = train['Password'].str.findall('_').apply(len)\n",
        "train['first'] = train['Password'].apply(lambda x: x[0] if len(x) > 0 else '')\n",
        "train['first_is_upper'] = train['first'].str.isupper() * 1\n",
        "train['first_is_digit'] = train['first'].str.isdigit() * 1\n",
        "train['first_is_spec'] = train['first'].str.findall('\\W').apply(len)\n",
        "train['first_is_underline'] = train['first'].str.findall('_').apply(len)\n",
        "train['last'] = train['Password'].apply(lambda x: x[-1] if len(x) > 0 else '')\n",
        "train['last_is_upper'] = train['last'].str.isupper() * 1\n",
        "train['last_is_digit'] = train['last'].str.isdigit() * 1\n",
        "train['last_is_spec'] = train['last'].str.findall('\\W').apply(len)\n",
        "train['last_is_underline'] = train['last'].str.findall('_').apply(len)"
      ],
      "execution_count": 0,
      "outputs": []
    },
    {
      "cell_type": "code",
      "metadata": {
        "ExecuteTime": {
          "end_time": "2019-10-02T19:30:03.476429Z",
          "start_time": "2019-10-02T19:29:48.034806Z"
        },
        "id": "JiUHXSTjLaOx",
        "colab_type": "code",
        "colab": {}
      },
      "source": [
        "test['upper_count'] = test['Password'].apply(lambda x: sum([1 if i.isupper() else 0 for i in x]))\n",
        "test['pas_len'] = test['Password'].str.len()\n",
        "test['digit_count'] = test['Password'].apply(lambda x: sum([1 if i.isdigit() else 0 for i in x]))\n",
        "test['max_digit_len'] = test['Password'].str.findall(r'[0-9]+').apply(\n",
        "    lambda x: max([len(i) for i in x]) if x != [] else 0)\n",
        "test['max_lower_let_len'] = test['Password'].str.findall(r'[a-z]+').apply(\n",
        "    lambda x: max([len(i) for i in x]) if x != [] else 0)\n",
        "test['max_upper_let_len'] = test['Password'].str.findall(r'[a-z]+').apply(\n",
        "    lambda x: max([len(i) for i in x]) if x != [] else 0)\n",
        "test['max_spec_symb_len'] = test['Password'].str.findall(r'[\\W]+').apply(\n",
        "    lambda x: max([len(i) for i in x]) if x != [] else 0)\n",
        "test['spec_count'] = test['Password'].str.findall('\\W').apply(len)\n",
        "test['underline_count'] = test['Password'].str.findall('_').apply(len)\n",
        "test['first'] = test['Password'].apply(lambda x: x[0] if len(x) > 0 else '')\n",
        "test['first_is_upper'] = test['first'].str.isupper() * 1\n",
        "test['first_is_digit'] = test['first'].str.isdigit() * 1\n",
        "test['first_is_spec'] = test['first'].str.findall('\\W').apply(len)\n",
        "test['first_is_underline'] = test['first'].str.findall('_').apply(len)\n",
        "test['last'] = test['Password'].apply(lambda x: x[-1] if len(x) > 0 else '')\n",
        "test['last_is_upper'] = test['last'].str.isupper() * 1\n",
        "test['last_is_digit'] = test['last'].str.isdigit() * 1\n",
        "test['last_is_spec'] = test['last'].str.findall('\\W').apply(len)\n",
        "test['last_is_underline'] = test['last'].str.findall('_').apply(len)"
      ],
      "execution_count": 0,
      "outputs": []
    },
    {
      "cell_type": "markdown",
      "metadata": {
        "id": "llCjni8pLaOz",
        "colab_type": "text"
      },
      "source": [
        "# split for validation"
      ]
    },
    {
      "cell_type": "code",
      "metadata": {
        "ExecuteTime": {
          "end_time": "2019-10-02T19:30:26.109542Z",
          "start_time": "2019-10-02T19:30:21.746491Z"
        },
        "id": "naU6TJYOLaOz",
        "colab_type": "code",
        "colab": {}
      },
      "source": [
        "X_train, X_test, y_train, y_test = train_test_split(\n",
        "    train.drop(columns=['Times']), train['Times'],\n",
        "    test_size=0.05, random_state=42,\n",
        "    shuffle=True\n",
        ")"
      ],
      "execution_count": 0,
      "outputs": []
    },
    {
      "cell_type": "code",
      "metadata": {
        "ExecuteTime": {
          "end_time": "2019-10-02T19:30:26.123975Z",
          "start_time": "2019-10-02T19:30:26.113358Z"
        },
        "id": "D9WIAEwuLaO1",
        "colab_type": "code",
        "colab": {}
      },
      "source": [
        "tfidf = TfidfVectorizer(lowercase=False, analyzer='char',\n",
        "                        ngram_range=(1, 6), max_df=0.999,\n",
        "                        min_df=0.001)"
      ],
      "execution_count": 0,
      "outputs": []
    },
    {
      "cell_type": "code",
      "metadata": {
        "ExecuteTime": {
          "end_time": "2019-10-02T19:34:34.150583Z",
          "start_time": "2019-10-02T19:30:48.687000Z"
        },
        "id": "6Zuv5icaLaO3",
        "colab_type": "code",
        "colab": {}
      },
      "source": [
        "%%time\n",
        "X_train_tfidf = tfidf.fit_transform(X_train['Password'])\n",
        "X_test_tfidf = tfidf.transform(X_test['Password'])"
      ],
      "execution_count": 0,
      "outputs": []
    },
    {
      "cell_type": "code",
      "metadata": {
        "ExecuteTime": {
          "end_time": "2019-10-02T20:10:17.984654Z",
          "start_time": "2019-10-02T20:09:47.223909Z"
        },
        "id": "suhI1QReLaO5",
        "colab_type": "code",
        "colab": {}
      },
      "source": [
        "test_tfidf = tfidf.transform(test['Password'])"
      ],
      "execution_count": 0,
      "outputs": []
    },
    {
      "cell_type": "code",
      "metadata": {
        "ExecuteTime": {
          "end_time": "2019-10-02T19:37:08.323261Z",
          "start_time": "2019-10-02T19:37:08.318795Z"
        },
        "scrolled": false,
        "id": "Ga6L__kBLaO7",
        "colab_type": "code",
        "colab": {}
      },
      "source": [
        "oh_f = OneHotEncoder(drop='first', dtype=int)\n",
        "oh_l = OneHotEncoder(drop='first', dtype=int)"
      ],
      "execution_count": 0,
      "outputs": []
    },
    {
      "cell_type": "code",
      "metadata": {
        "ExecuteTime": {
          "end_time": "2019-10-02T19:37:47.219554Z",
          "start_time": "2019-10-02T19:37:45.329077Z"
        },
        "id": "Uc1OJFCvLaO9",
        "colab_type": "code",
        "colab": {}
      },
      "source": [
        "X_train_first = oh_f.fit_transform(X_train[['first']])\n",
        "X_test_first = oh_f.transform(X_test[['first']])\n",
        "\n",
        "X_train_last = oh_l.fit_transform(X_train[['last']])\n",
        "X_test_last = oh_l.transform(X_test[['last']])"
      ],
      "execution_count": 0,
      "outputs": []
    },
    {
      "cell_type": "code",
      "metadata": {
        "ExecuteTime": {
          "end_time": "2019-10-02T20:10:23.217363Z",
          "start_time": "2019-10-02T20:10:22.228644Z"
        },
        "id": "Qzpq8uNALaO-",
        "colab_type": "code",
        "colab": {}
      },
      "source": [
        "test_first = oh_f.transform(test[['first']])\n",
        "test_last = oh_l.transform(test[['last']])"
      ],
      "execution_count": 0,
      "outputs": []
    },
    {
      "cell_type": "code",
      "metadata": {
        "ExecuteTime": {
          "end_time": "2019-10-02T19:38:01.201077Z",
          "start_time": "2019-10-02T19:38:01.196864Z"
        },
        "id": "_dbRrWW0LaPA",
        "colab_type": "code",
        "colab": {}
      },
      "source": [
        "X_train_first = csr_matrix(X_train_first)\n",
        "X_train_last = csr_matrix(X_train_last)\n",
        "X_test_first = csr_matrix(X_test_first)\n",
        "X_test_last = csr_matrix(X_test_last)"
      ],
      "execution_count": 0,
      "outputs": []
    },
    {
      "cell_type": "code",
      "metadata": {
        "ExecuteTime": {
          "end_time": "2019-10-02T20:10:56.611283Z",
          "start_time": "2019-10-02T20:10:56.605222Z"
        },
        "id": "OhwobbIiLaPC",
        "colab_type": "code",
        "colab": {}
      },
      "source": [
        "test_first = csr_matrix(test_first)\n",
        "test_last = csr_matrix(test_last)"
      ],
      "execution_count": 0,
      "outputs": []
    },
    {
      "cell_type": "code",
      "metadata": {
        "ExecuteTime": {
          "end_time": "2019-10-02T19:38:08.414123Z",
          "start_time": "2019-10-02T19:38:05.013404Z"
        },
        "scrolled": true,
        "id": "pPhhuCQeLaPE",
        "colab_type": "code",
        "colab": {}
      },
      "source": [
        "X_train_csr = csr_matrix(X_train.drop(columns=['Password', 'first', 'last']))\n",
        "X_test_csr = csr_matrix(X_test.drop(columns=['Password', 'first', 'last']))"
      ],
      "execution_count": 0,
      "outputs": []
    },
    {
      "cell_type": "code",
      "metadata": {
        "ExecuteTime": {
          "end_time": "2019-10-02T20:11:59.250759Z",
          "start_time": "2019-10-02T20:11:58.595494Z"
        },
        "id": "zodZF4nqLaPG",
        "colab_type": "code",
        "colab": {}
      },
      "source": [
        "test_csr = csr_matrix(test.drop(columns=['Id', 'Password', 'first', 'last']))"
      ],
      "execution_count": 0,
      "outputs": []
    },
    {
      "cell_type": "code",
      "metadata": {
        "ExecuteTime": {
          "end_time": "2019-10-02T19:38:21.810409Z",
          "start_time": "2019-10-02T19:38:13.786537Z"
        },
        "id": "T_jR7cRFLaPI",
        "colab_type": "code",
        "colab": {}
      },
      "source": [
        "X_tr = hstack([X_train_tfidf, X_train_first, X_train_last, X_train_csr])\n",
        "X_val = hstack([X_test_tfidf, X_test_first, X_test_last, X_test_csr])"
      ],
      "execution_count": 0,
      "outputs": []
    },
    {
      "cell_type": "code",
      "metadata": {
        "ExecuteTime": {
          "end_time": "2019-10-02T19:40:47.656788Z",
          "start_time": "2019-10-02T19:40:45.972789Z"
        },
        "id": "foicZndOLaPJ",
        "colab_type": "code",
        "colab": {}
      },
      "source": [
        "X_tr_1 = hstack([X_train_first, X_train_last, X_train_csr])\n",
        "X_val_1 = hstack([X_test_first, X_test_last, X_test_csr])"
      ],
      "execution_count": 0,
      "outputs": []
    },
    {
      "cell_type": "code",
      "metadata": {
        "ExecuteTime": {
          "end_time": "2019-10-02T20:12:39.385965Z",
          "start_time": "2019-10-02T20:12:37.384889Z"
        },
        "id": "S5O8ugmDLaPM",
        "colab_type": "code",
        "colab": {}
      },
      "source": [
        "test_total = hstack([test_tfidf, test_first, test_last, test_csr])"
      ],
      "execution_count": 0,
      "outputs": []
    },
    {
      "cell_type": "code",
      "metadata": {
        "id": "0F_PG10dUoC1",
        "colab_type": "code",
        "colab": {}
      },
      "source": [
        "test_total_1 = hstack([test_first, test_last, test_csr])"
      ],
      "execution_count": 0,
      "outputs": []
    },
    {
      "cell_type": "code",
      "metadata": {
        "ExecuteTime": {
          "end_time": "2019-10-02T20:12:54.324905Z",
          "start_time": "2019-10-02T20:12:54.318149Z"
        },
        "id": "_H9MGWxMLaPN",
        "colab_type": "code",
        "colab": {}
      },
      "source": [
        "test_total, X_tr"
      ],
      "execution_count": 0,
      "outputs": []
    },
    {
      "cell_type": "code",
      "metadata": {
        "ExecuteTime": {
          "end_time": "2019-10-02T19:46:08.747148Z",
          "start_time": "2019-10-02T19:44:45.081193Z"
        },
        "id": "6xOiq1RVLaPR",
        "colab_type": "code",
        "colab": {}
      },
      "source": [
        "save_npz('X_tr.npz', X_tr)\n",
        "save_npz('X_val.npz', X_val)\n",
        "save_npz('X_tr_1.npz', X_tr_1)\n",
        "save_npz('X_val_1.npz', X_val_1)"
      ],
      "execution_count": 0,
      "outputs": []
    },
    {
      "cell_type": "markdown",
      "metadata": {
        "id": "_kZMTkhwLaPV",
        "colab_type": "text"
      },
      "source": [
        "# model"
      ]
    },
    {
      "cell_type": "markdown",
      "metadata": {
        "id": "m8G48SMvLaPV",
        "colab_type": "text"
      },
      "source": [
        "## lgbm"
      ]
    },
    {
      "cell_type": "code",
      "metadata": {
        "ExecuteTime": {
          "end_time": "2019-10-02T17:22:21.327053Z",
          "start_time": "2019-10-02T17:22:21.244008Z"
        },
        "id": "k91Xks2cLaPW",
        "colab_type": "code",
        "colab": {}
      },
      "source": [
        "LGBMClassifier?"
      ],
      "execution_count": 0,
      "outputs": []
    },
    {
      "cell_type": "code",
      "metadata": {
        "ExecuteTime": {
          "end_time": "2019-10-02T20:01:20.191745Z",
          "start_time": "2019-10-02T20:01:20.180505Z"
        },
        "id": "87DXD85ZLaPX",
        "colab_type": "code",
        "colab": {}
      },
      "source": [
        "reg = LGBMClassifier(\n",
        "    class_weight='balanced',\n",
        "    max_depth=7,\n",
        "    metric='recall',\n",
        "    random_state=42,\n",
        "    n_jobs=-1,\n",
        "    n_estimators=1000,\n",
        "    learning_rate=0.1)"
      ],
      "execution_count": 0,
      "outputs": []
    },
    {
      "cell_type": "code",
      "metadata": {
        "ExecuteTime": {
          "end_time": "2019-10-02T20:04:08.735317Z",
          "start_time": "2019-10-02T20:01:20.830556Z"
        },
        "id": "p2e8NZiDLaPY",
        "colab_type": "code",
        "colab": {}
      },
      "source": [
        "reg.fit(X_tr, 1 * (y_train > 1))"
      ],
      "execution_count": 0,
      "outputs": []
    },
    {
      "cell_type": "code",
      "metadata": {
        "ExecuteTime": {
          "end_time": "2019-10-02T20:04:24.722746Z",
          "start_time": "2019-10-02T20:04:24.677833Z"
        },
        "id": "QLSuKRnDLaPa",
        "colab_type": "code",
        "colab": {}
      },
      "source": [
        "np.max([preds, np.zeros(len(preds))], axis=0)[:10].round()"
      ],
      "execution_count": 0,
      "outputs": []
    },
    {
      "cell_type": "code",
      "metadata": {
        "ExecuteTime": {
          "end_time": "2019-10-02T20:04:34.048245Z",
          "start_time": "2019-10-02T20:04:28.901302Z"
        },
        "scrolled": true,
        "id": "pGjCWCPELaPd",
        "colab_type": "code",
        "colab": {}
      },
      "source": [
        "preds = reg.predict(X_val)"
      ],
      "execution_count": 0,
      "outputs": []
    },
    {
      "cell_type": "code",
      "metadata": {
        "id": "PR-WHLNlLaPe",
        "colab_type": "code",
        "colab": {}
      },
      "source": [
        "np.sqrt(mean_squared_log_error(y_test, np.max([preds, np.zeros(len(preds))], axis=0)))"
      ],
      "execution_count": 0,
      "outputs": []
    },
    {
      "cell_type": "code",
      "metadata": {
        "ExecuteTime": {
          "end_time": "2019-10-02T20:00:05.495105Z",
          "start_time": "2019-10-02T20:00:05.468230Z"
        },
        "id": "d3fi-4r9LaPg",
        "colab_type": "code",
        "colab": {}
      },
      "source": [
        "(y_test > 1).mean()"
      ],
      "execution_count": 0,
      "outputs": []
    },
    {
      "cell_type": "code",
      "metadata": {
        "ExecuteTime": {
          "end_time": "2019-10-02T20:04:36.426678Z",
          "start_time": "2019-10-02T20:04:35.282392Z"
        },
        "scrolled": true,
        "id": "s7ij1focLaPh",
        "colab_type": "code",
        "colab": {}
      },
      "source": [
        "print(classification_report(1 * (y_test > 1), preds))"
      ],
      "execution_count": 0,
      "outputs": []
    },
    {
      "cell_type": "markdown",
      "metadata": {
        "id": "f-mvnNCgLaPj",
        "colab_type": "text"
      },
      "source": [
        "## sgdreg"
      ]
    },
    {
      "cell_type": "code",
      "metadata": {
        "ExecuteTime": {
          "end_time": "2019-10-02T19:52:51.721483Z",
          "start_time": "2019-10-02T19:52:51.714089Z"
        },
        "id": "UAEIV2BILaPk",
        "colab_type": "code",
        "colab": {}
      },
      "source": [
        "sgd = SGDRegressor(random_state=42,\n",
        "                   loss='epsilon_insensitive',\n",
        "                   penalty='l2',\n",
        "                   learning_rate='adaptive',\n",
        "                   alpha=0.0001, warm_start=True,\n",
        "                   max_iter=100, tol=1e-3)"
      ],
      "execution_count": 0,
      "outputs": []
    },
    {
      "cell_type": "code",
      "metadata": {
        "ExecuteTime": {
          "end_time": "2019-10-02T19:53:58.419997Z",
          "start_time": "2019-10-02T19:52:53.897604Z"
        },
        "id": "QogSC78ELaPo",
        "colab_type": "code",
        "colab": {}
      },
      "source": [
        "sgd.fit(X_tr, y_train)"
      ],
      "execution_count": 0,
      "outputs": []
    },
    {
      "cell_type": "code",
      "metadata": {
        "ExecuteTime": {
          "end_time": "2019-10-02T20:06:06.408896Z",
          "start_time": "2019-10-02T20:06:05.717244Z"
        },
        "id": "AIjEvG_vLaPs",
        "colab_type": "code",
        "colab": {}
      },
      "source": [
        "preds_sgd = sgd.predict(X_val)\n",
        "np.sqrt(mean_squared_log_error(y_test, preds_sgd))"
      ],
      "execution_count": 0,
      "outputs": []
    },
    {
      "cell_type": "code",
      "metadata": {
        "ExecuteTime": {
          "end_time": "2019-10-02T20:07:31.594242Z",
          "start_time": "2019-10-02T20:07:31.564487Z"
        },
        "id": "8Msjy7OYLaPv",
        "colab_type": "code",
        "colab": {}
      },
      "source": [
        "np.sqrt(mean_squared_log_error(y_test, (preds_sgd + preds + 1) / 2))"
      ],
      "execution_count": 0,
      "outputs": []
    },
    {
      "cell_type": "code",
      "metadata": {
        "ExecuteTime": {
          "end_time": "2019-10-02T19:42:27.219530Z",
          "start_time": "2019-10-02T19:42:27.202542Z"
        },
        "id": "IFGWJvXmLaPw",
        "colab_type": "code",
        "colab": {}
      },
      "source": [
        "preds"
      ],
      "execution_count": 0,
      "outputs": []
    },
    {
      "cell_type": "code",
      "metadata": {
        "id": "6rZnpqwqLaPy",
        "colab_type": "code",
        "colab": {}
      },
      "source": [
        ""
      ],
      "execution_count": 0,
      "outputs": []
    },
    {
      "cell_type": "code",
      "metadata": {
        "ExecuteTime": {
          "end_time": "2019-10-02T20:14:24.271584Z",
          "start_time": "2019-10-02T20:14:18.064483Z"
        },
        "id": "VWO4pMmELaPz",
        "colab_type": "code",
        "colab": {}
      },
      "source": [
        "p1 = reg.predict(test_total)\n",
        "p2 = sgd.predict(test_total)\n",
        "p = (p1 + p2 + 1) / 2"
      ],
      "execution_count": 0,
      "outputs": []
    },
    {
      "cell_type": "code",
      "metadata": {
        "ExecuteTime": {
          "end_time": "2019-10-02T20:14:56.815651Z",
          "start_time": "2019-10-02T20:14:56.788586Z"
        },
        "id": "j6EwqL_XLaP1",
        "colab_type": "code",
        "colab": {}
      },
      "source": [
        "sample['Times'] = p"
      ],
      "execution_count": 0,
      "outputs": []
    },
    {
      "cell_type": "code",
      "metadata": {
        "ExecuteTime": {
          "end_time": "2019-10-02T20:16:31.894098Z",
          "start_time": "2019-10-02T20:16:28.943536Z"
        },
        "id": "DyfKTugnLaP4",
        "colab_type": "code",
        "colab": {}
      },
      "source": [
        "sample.to_csv('/content/gdrive/My Drive/Colab Notebooks/ml_sport/data/kim_sgdreg_lgbmbin_mix_half.csv', index=None)"
      ],
      "execution_count": 0,
      "outputs": []
    }
  ]
}